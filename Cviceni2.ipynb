{
 "cells": [
  {
   "cell_type": "code",
   "id": "initial_id",
   "metadata": {
    "collapsed": true,
    "ExecuteTime": {
     "end_time": "2025-03-19T17:19:28.414302Z",
     "start_time": "2025-03-19T17:19:28.408421Z"
    }
   },
   "source": [
    "import numpy as np\n",
    "import pylab as plt"
   ],
   "outputs": [],
   "execution_count": 155
  },
  {
   "metadata": {
    "ExecuteTime": {
     "end_time": "2025-03-19T17:19:28.438003Z",
     "start_time": "2025-03-19T17:19:28.428257Z"
    }
   },
   "cell_type": "code",
   "source": [
    "def motion_mdl(state, distance=0.5):\n",
    "    x, y, f = state\n",
    "    f = np.random.normal(f, 0.2)\n",
    "    d = np.random.normal(distance, 0.02)\n",
    "    x += d * np.cos(f)\n",
    "    y += d * np.sin(f)\n",
    "    return np.array([x, y, f])"
   ],
   "id": "7e28f0958b1add28",
   "outputs": [],
   "execution_count": 156
  },
  {
   "metadata": {
    "ExecuteTime": {
     "end_time": "2025-03-19T17:19:28.492946Z",
     "start_time": "2025-03-19T17:19:28.488065Z"
    }
   },
   "cell_type": "code",
   "source": [
    "def prediction(particles, samples=100):\n",
    "    return [motion_mdl(state) for _ in range(samples) for state in particles]"
   ],
   "id": "3182b9366b18b52",
   "outputs": [],
   "execution_count": 157
  },
  {
   "metadata": {
    "ExecuteTime": {
     "end_time": "2025-03-19T17:19:28.549370Z",
     "start_time": "2025-03-19T17:19:28.544098Z"
    }
   },
   "cell_type": "code",
   "source": [
    "def estimate(particles):\n",
    "    p = np.array(particles)\n",
    "    return np.mean(p, axis=0)"
   ],
   "id": "3c04e29f0ec02c83",
   "outputs": [],
   "execution_count": 158
  },
  {
   "metadata": {
    "ExecuteTime": {
     "end_time": "2025-03-19T17:19:28.606217Z",
     "start_time": "2025-03-19T17:19:28.600463Z"
    }
   },
   "cell_type": "code",
   "source": [
    "def weight(measurement, particle):\n",
    "    x, y, f = particle\n",
    "    d = ((x-2)**2 + (y-0)**2)\n",
    "    return 1/abs(d - measurement) + 1/f"
   ],
   "id": "c0cb50e669b7e1c0",
   "outputs": [],
   "execution_count": 159
  },
  {
   "metadata": {
    "ExecuteTime": {
     "end_time": "2025-03-19T17:19:28.662735Z",
     "start_time": "2025-03-19T17:19:28.657598Z"
    }
   },
   "cell_type": "code",
   "source": [
    "def update_robot(real_state):\n",
    "    x, y, f = real_state\n",
    "    return x+0.5, y, f"
   ],
   "id": "7f7bfea1b826ff4a",
   "outputs": [],
   "execution_count": 160
  },
  {
   "metadata": {
    "ExecuteTime": {
     "end_time": "2025-03-19T17:19:28.719433Z",
     "start_time": "2025-03-19T17:19:28.712958Z"
    }
   },
   "cell_type": "code",
   "source": [
    "def resampling(state_space, state_weight, samples=30):\n",
    "    size, count = 0, 0\n",
    "    result_space , result_weight = [], []\n",
    "    while size < samples:\n",
    "        count = np.random.randint(len(state_space))\n",
    "        if np.random.random() < state_weight[count]:\n",
    "            result_space.append(state_space[count])\n",
    "            # result_weight.append(1.0 / samples)\n",
    "            del state_space[count]\n",
    "            del state_weight[count]\n",
    "            size += 1\n",
    "    return result_space, [] #result_weight"
   ],
   "id": "a89b190ddcd9195b",
   "outputs": [],
   "execution_count": 161
  },
  {
   "metadata": {
    "ExecuteTime": {
     "end_time": "2025-03-19T17:20:23.272515Z",
     "start_time": "2025-03-19T17:19:28.773147Z"
    }
   },
   "cell_type": "code",
   "source": [
    "if __name__ == \"__main__\":\n",
    "    iter = 20\n",
    "    init_state = 0, 0, 0\n",
    "    x, y, _ = init_state\n",
    "    plt.plot(x, y, 'bo')\n",
    "\n",
    "    p = [init_state]\n",
    "    real_state = init_state\n",
    "\n",
    "    for i in range(iter):\n",
    "        p = prediction(p)\n",
    "\n",
    "        real_state = update_robot(real_state)\n",
    "        # Measure distance from a tree\n",
    "        measurement = 2.0 - real_state[0]\n",
    "\n",
    "        w = [weight(measurement, particle) for particle in p]\n",
    "        w = [wght/sum(w) for wght in w]\n",
    "\n",
    "        p, _ = resampling(p, w)\n",
    "\n",
    "        for state in p:\n",
    "            x, y, f = state\n",
    "            plt.plot([x, x+0.02*np.cos(f)], [y, y+0.02*np.sin(f)], 'r-')\n",
    "\n",
    "        # Position estimate\n",
    "        x,y,f = estimate(p)\n",
    "        plt.plot([x, x+0.02*np.cos(f)], [y, y+0.02*np.sin(f)], 'g-')\n",
    "\n",
    "        # Real position\n",
    "        x,y,f = real_state\n",
    "        plt.plot(x, y, 'kd')\n",
    "\n",
    "\n",
    "    plt.axis('square')\n",
    "    plt.show()\n"
   ],
   "id": "2353a6b9cf331bc",
   "outputs": [
    {
     "data": {
      "text/plain": [
       "<Figure size 640x480 with 1 Axes>"
      ],
      "image/png": "[encoded data removed]"
     },
     "metadata": {},
     "output_type": "display_data"
    }
   ],
   "execution_count": 162
  }
 ],
 "metadata": {
  "kernelspec": {
   "display_name": "Python 3",
   "language": "python",
   "name": "python3"
  },
  "language_info": {
   "codemirror_mode": {
    "name": "ipython",
    "version": 2
   },
   "file_extension": ".py",
   "mimetype": "text/x-python",
   "name": "python",
   "nbconvert_exporter": "python",
   "pygments_lexer": "ipython2",
   "version": "2.7.6"
  }
 },
 "nbformat": 4,
 "nbformat_minor": 5
}
